{ 
 "cells": [
  {
   "cell_type": "markdown",
   "metadata": {},
   "source": [
    "Hand-drawn Circuit Component Recognition <br>\n",
    "Author: Apurva Umredkar<br><br>\n",
    "Step 4: Deploying the trained classifier for real-time circuit component recognition"
   ]
  },
  {
   "cell_type": "code",
   "execution_count": 2,
   "metadata": {},
   "outputs": [],
   "source": [
    "from CktComponentRecognizer import *\n",
    "import pygame\n",
    "import sys\n",
    "from pygame.locals import QUIT, MOUSEBUTTONUP, MOUSEBUTTONDOWN, MOUSEMOTION, KEYDOWN\n",
    "from tkinter import *\n",
    "from tkinter import messagebox\n",
    "\n",
    "top = Tk()\n",
    "top.geometry(\"10x10\")\n",
    "top.withdraw()\n",
    "instructions = \"Welcome to the CktComponentRecognizer GUI.\\\n",
    "                \\nUse your mouse to draw on the screen.\\\n",
    "                \\nPress ENTER to recognize component.\\\n",
    "                \\nPress C to clear screen.\\\n",
    "                \\nPress I to display instructions.\\\n",
    "                \\nPress ESC to exit app.\"\n",
    "\n",
    "messagebox.showinfo(\"Instructions\", instructions)\n",
    "top.mainloop()\n",
    "\n",
    "pygame.init()\n",
    "screen = pygame.display.set_mode((200, 200))\n",
    "screen.fill((0, 0, 0))\n",
    "\n",
    "drawing = False\n",
    "while True:\n",
    "    for event in pygame.event.get():\n",
    "        if event.type == QUIT:\n",
    "            pygame.quit()\n",
    "            sys.exit()\n",
    "\n",
    "        if event.type == MOUSEBUTTONDOWN:\n",
    "            drawing = True\n",
    "        if event.type == MOUSEBUTTONUP:\n",
    "            drawing = False\n",
    "\n",
    "        if event.type == KEYDOWN:\n",
    "            if event.key == pygame.K_RETURN:\n",
    "                img = pygame.surfarray.array3d(screen)\n",
    "                output = recognize_component(img)\n",
    "                output_message = f\"Component recognized: {output[0]}\\nAccuracy: {output[1]*100:.2f}\"\n",
    "                messagebox.showinfo(\"Output\", output_message)\n",
    "\n",
    "            if event.key == pygame.K_c:\n",
    "                screen.fill((0, 0, 0))\n",
    "\n",
    "            if event.key == pygame.K_i:\n",
    "                messagebox.showinfo(\"Instructions\", instructions)\n",
    "            \n",
    "            if event.key == pygame.K_ESCAPE:\n",
    "                pygame.quit()\n",
    "                sys.exit()\n",
    "\n",
    "        if event.type == MOUSEMOTION:\n",
    "            if drawing:\n",
    "                x, y = pygame.mouse.get_pos()\n",
    "                screen.set_at((x, y), (255, 255, 255))\n",
    "\n",
    "    pygame.display.flip()\n"
   ]
  }
 ],
 "metadata": {
  "interpreter": {
   "hash": "fb52381a2d11b215e02d680bf40e6f0e32f16946891746dd79f05455303b863c"
  },
  "kernelspec": {
   "display_name": "Python 3.8.12 ('base')",
   "language": "python",
   "name": "python3"
  },
  "language_info": {
   "codemirror_mode": {
    "name": "ipython",
    "version": 3
   },
   "file_extension": ".py",
   "mimetype": "text/x-python",
   "name": "python",
   "nbconvert_exporter": "python",
   "pygments_lexer": "ipython3",
   "version": "3.8.12"
  },
  "orig_nbformat": 4
 },
 "nbformat": 4,
 "nbformat_minor": 2
}
